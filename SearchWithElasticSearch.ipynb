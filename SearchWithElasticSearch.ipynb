{
  "nbformat": 4,
  "nbformat_minor": 0,
  "metadata": {
    "colab": {
      "provenance": [],
      "authorship_tag": "ABX9TyPIVXehaozcWQSsH77ZEaw9",
      "include_colab_link": true
    },
    "kernelspec": {
      "name": "python3",
      "display_name": "Python 3"
    },
    "language_info": {
      "name": "python"
    },
    "widgets": {
      "application/vnd.jupyter.widget-state+json": {
        "0bd9d2e248e34b4e896f9c7c56253099": {
          "model_module": "@jupyter-widgets/controls",
          "model_name": "TextModel",
          "model_module_version": "1.5.0",
          "state": {
            "_dom_classes": [],
            "_model_module": "@jupyter-widgets/controls",
            "_model_module_version": "1.5.0",
            "_model_name": "TextModel",
            "_view_count": null,
            "_view_module": "@jupyter-widgets/controls",
            "_view_module_version": "1.5.0",
            "_view_name": "TextView",
            "continuous_update": true,
            "description": "Query:",
            "description_tooltip": null,
            "disabled": false,
            "layout": "IPY_MODEL_5c5f80b302b341a299330e9194cc5bc7",
            "placeholder": "Type something",
            "style": "IPY_MODEL_73e49708c1674285ace9a396d8c6a037",
            "value": ""
          }
        },
        "5c5f80b302b341a299330e9194cc5bc7": {
          "model_module": "@jupyter-widgets/base",
          "model_name": "LayoutModel",
          "model_module_version": "1.2.0",
          "state": {
            "_model_module": "@jupyter-widgets/base",
            "_model_module_version": "1.2.0",
            "_model_name": "LayoutModel",
            "_view_count": null,
            "_view_module": "@jupyter-widgets/base",
            "_view_module_version": "1.2.0",
            "_view_name": "LayoutView",
            "align_content": null,
            "align_items": null,
            "align_self": null,
            "border": null,
            "bottom": null,
            "display": null,
            "flex": null,
            "flex_flow": null,
            "grid_area": null,
            "grid_auto_columns": null,
            "grid_auto_flow": null,
            "grid_auto_rows": null,
            "grid_column": null,
            "grid_gap": null,
            "grid_row": null,
            "grid_template_areas": null,
            "grid_template_columns": null,
            "grid_template_rows": null,
            "height": null,
            "justify_content": null,
            "justify_items": null,
            "left": null,
            "margin": null,
            "max_height": null,
            "max_width": null,
            "min_height": null,
            "min_width": null,
            "object_fit": null,
            "object_position": null,
            "order": null,
            "overflow": null,
            "overflow_x": null,
            "overflow_y": null,
            "padding": null,
            "right": null,
            "top": null,
            "visibility": null,
            "width": null
          }
        },
        "73e49708c1674285ace9a396d8c6a037": {
          "model_module": "@jupyter-widgets/controls",
          "model_name": "DescriptionStyleModel",
          "model_module_version": "1.5.0",
          "state": {
            "_model_module": "@jupyter-widgets/controls",
            "_model_module_version": "1.5.0",
            "_model_name": "DescriptionStyleModel",
            "_view_count": null,
            "_view_module": "@jupyter-widgets/base",
            "_view_module_version": "1.2.0",
            "_view_name": "StyleView",
            "description_width": ""
          }
        },
        "dea67f7a291047019543ba3e422670e3": {
          "model_module": "@jupyter-widgets/output",
          "model_name": "OutputModel",
          "model_module_version": "1.0.0",
          "state": {
            "_dom_classes": [],
            "_model_module": "@jupyter-widgets/output",
            "_model_module_version": "1.0.0",
            "_model_name": "OutputModel",
            "_view_count": null,
            "_view_module": "@jupyter-widgets/output",
            "_view_module_version": "1.0.0",
            "_view_name": "OutputView",
            "layout": "IPY_MODEL_2e0a27a815a0471e8d7f63e7c6249d03",
            "msg_id": "",
            "outputs": [
              {
                "output_type": "display_data",
                "data": {
                  "text/plain": "<IPython.core.display.Markdown object>",
                  "text/markdown": ""
                },
                "metadata": {}
              }
            ]
          }
        },
        "2e0a27a815a0471e8d7f63e7c6249d03": {
          "model_module": "@jupyter-widgets/base",
          "model_name": "LayoutModel",
          "model_module_version": "1.2.0",
          "state": {
            "_model_module": "@jupyter-widgets/base",
            "_model_module_version": "1.2.0",
            "_model_name": "LayoutModel",
            "_view_count": null,
            "_view_module": "@jupyter-widgets/base",
            "_view_module_version": "1.2.0",
            "_view_name": "LayoutView",
            "align_content": null,
            "align_items": null,
            "align_self": null,
            "border": null,
            "bottom": null,
            "display": null,
            "flex": null,
            "flex_flow": null,
            "grid_area": null,
            "grid_auto_columns": null,
            "grid_auto_flow": null,
            "grid_auto_rows": null,
            "grid_column": null,
            "grid_gap": null,
            "grid_row": null,
            "grid_template_areas": null,
            "grid_template_columns": null,
            "grid_template_rows": null,
            "height": null,
            "justify_content": null,
            "justify_items": null,
            "left": null,
            "margin": null,
            "max_height": null,
            "max_width": null,
            "min_height": null,
            "min_width": null,
            "object_fit": null,
            "object_position": null,
            "order": null,
            "overflow": null,
            "overflow_x": null,
            "overflow_y": null,
            "padding": null,
            "right": null,
            "top": null,
            "visibility": null,
            "width": null
          }
        }
      }
    }
  },
  "cells": [
    {
      "cell_type": "markdown",
      "metadata": {
        "id": "view-in-github",
        "colab_type": "text"
      },
      "source": [
        "<a href=\"https://colab.research.google.com/github/BSP22SCM61P/SCM587SP22/blob/main/SearchWithElasticSearch.ipynb\" target=\"_parent\"><img src=\"https://colab.research.google.com/assets/colab-badge.svg\" alt=\"Open In Colab\"/></a>"
      ]
    },
    {
      "cell_type": "code",
      "execution_count": 2,
      "metadata": {
        "id": "UiyK2DyMs7ir"
      },
      "outputs": [],
      "source": [
        "import pandas as pd\n",
        "import numpy as np\n",
        "import json\n",
        "import os\n",
        "import requests\n",
        "import json\n",
        "import requests\n",
        "import ipywidgets as widgets\n",
        "from IPython.display import clear_output, Markdown, display\n",
        "from time import time\n",
        "\n",
        "\n",
        "# Read the original movies.csv file and replace (no genres listed) with NaN values\n",
        "df = pd.read_csv('movies.csv')\n",
        "df['genres'] = df['genres'].replace('(no genres listed)', np.NaN)\n",
        "\n",
        "# Save the cleaned dataframe to a new CSV file\n",
        "df.to_csv('movies_clean.csv', index=False)"
      ]
    },
    {
      "cell_type": "code",
      "source": [
        "def construct_index(row):\n",
        "    \"\"\"Helper function to return all the keywords from the title and genres columns\"\"\"\n",
        "    if pd.isnull(row['genres']):\n",
        "        genres = None\n",
        "    else:\n",
        "        genres = row['genres'].split('|')\n",
        "         \n",
        "    return f\"{row['title']} {' '.join(genres) if genres else ''}\""
      ],
      "metadata": {
        "id": "Jyhfx05rtPpv"
      },
      "execution_count": 3,
      "outputs": []
    },
    {
      "cell_type": "code",
      "source": [
        "# Load cleaned dataset\n",
        "df = pd.read_csv('movies_clean.csv')\n",
        "\n",
        "# Construct the index, which includes title + genres\n",
        "df['search_index'] = df.apply(construct_index, axis=1)\n"
      ],
      "metadata": {
        "id": "7aQv1gmRtPyx"
      },
      "execution_count": 4,
      "outputs": []
    },
    {
      "cell_type": "code",
      "source": [
        "def df2json(df, index_name, id_col, file_loc=' ', file_name='movies.json'):\n",
        "    \"\"\"\n",
        "    Convert the dataframe to a JSON file that is ready to be uploaded to the server\n",
        "\n",
        "    :param df: the pandas dataframe to be converted\n",
        "    :param index_name: the name of the Elasticsearch index to be created\n",
        "    :param id_col: the name of the column in the dataframe to be used as the unique identifier in Elasticsearch\n",
        "    :param file_loc: the directory where the JSON file will be saved\n",
        "    :param file_name: the name of the JSON file\n",
        "    \"\"\"\n",
        "    # Remove existing file if it exists\n",
        "    if file_name in os.listdir(file_loc):\n",
        "        os.remove(file_loc + file_name)\n",
        "    \n",
        "    # Write JSON data to file\n",
        "    with open(file_loc + file_name, 'a') as f:\n",
        "        for i, row in df.iterrows():\n",
        "            d1 = {'index': {'_index': index_name, '_id': f\"{row[id_col]}\"}}\n",
        "            d2 = {}\n",
        "            for col in df.columns:\n",
        "                if col != id_col:\n",
        "                    d2[col] = row[col]\n",
        "            json.dump(d1, f)\n",
        "            f.write('\\n')\n",
        "            json.dump(d2, f)\n",
        "            f.write('\\n')\n",
        "\n",
        "df2json(df, 'movies', 'movieId', file_loc='/content/')\n"
      ],
      "metadata": {
        "id": "PyhjwBqXtP1u"
      },
      "execution_count": 5,
      "outputs": []
    },
    {
      "cell_type": "code",
      "source": [
        "def upload_json(file_loc, file_name, endpoint, username, password):\n",
        "    \"\"\"\n",
        "    Bulk upload the JSON data file onto the Elasticsearch domain\n",
        "\n",
        "    :param file_loc: the directory where the JSON file is saved\n",
        "    :param file_name: the name of the JSON file\n",
        "    :param endpoint: the endpoint of the Elasticsearch domain\n",
        "    :param username: the username used to authenticate with the Elasticsearch domain\n",
        "    :param password: the password used to authenticate with the Elasticsearch domain\n",
        "    \"\"\"\n",
        "    url = endpoint + '/_bulk'\n",
        "    with open(file_loc + file_name, 'r') as f:\n",
        "        r = requests.post(url,\n",
        "                          data=f,\n",
        "                          auth=(username, password),\n",
        "                          headers={'Content-type': 'application/json'})\n",
        "    return r\n",
        "\n",
        "\n",
        "# Elasticsearch server configuration\n",
        "username = 'admin'\n",
        "password = '123@Admin'\n",
        "endpoint = 'https://search-project1-afwun7ypkhlhixyp4zbivy6nki.us-east-2.es.amazonaws.com'\n",
        "\n",
        "# Convert dataframe to JSON and upload to Elasticsearch server\n",
        "df2json(df, 'movies', 'movieId', file_loc='/content/')\n",
        "upload_json('/content/', 'movies.json', endpoint, username, password)\n",
        "\n"
      ],
      "metadata": {
        "id": "ODpJFP2dtP4h",
        "colab": {
          "base_uri": "https://localhost:8080/"
        },
        "outputId": "5ca33e2e-8e83-462f-a103-bb9880854b96"
      },
      "execution_count": 6,
      "outputs": [
        {
          "output_type": "execute_result",
          "data": {
            "text/plain": [
              "<Response [200]>"
            ]
          },
          "metadata": {},
          "execution_count": 6
        }
      ]
    },
    {
      "cell_type": "code",
      "source": [
        "query = {\n",
        "    'query': {\n",
        "        'match': {\n",
        "            'title': 'jumanji'\n",
        "        }\n",
        "    }\n",
        "}\n",
        "query = json.dumps(query)\n",
        "\n",
        "url = endpoint + '/movies/_search'\n",
        "r = requests.get(url, \n",
        "                 auth=(username, password),\n",
        "                 data=query,\n",
        "                 headers={'Content-type': 'application/json'})\n",
        "r.json()"
      ],
      "metadata": {
        "id": "fYUxHFsYtP7G",
        "colab": {
          "base_uri": "https://localhost:8080/"
        },
        "outputId": "cf6216dc-02fb-4419-fd8e-faebc3c2597e"
      },
      "execution_count": 7,
      "outputs": [
        {
          "output_type": "execute_result",
          "data": {
            "text/plain": [
              "{'took': 1486,\n",
              " 'timed_out': False,\n",
              " '_shards': {'total': 5, 'successful': 5, 'skipped': 0, 'failed': 0},\n",
              " 'hits': {'total': {'value': 1, 'relation': 'eq'},\n",
              "  'max_score': 10.658253,\n",
              "  'hits': [{'_index': 'movies',\n",
              "    '_id': '2',\n",
              "    '_score': 10.658253,\n",
              "    '_source': {'title': 'Jumanji (1995)',\n",
              "     'genres': 'Adventure|Children|Fantasy',\n",
              "     'search_index': 'Jumanji (1995) Adventure Children Fantasy'}}]}}"
            ]
          },
          "metadata": {},
          "execution_count": 7
        }
      ]
    },
    {
      "cell_type": "code",
      "source": [
        "def search(keyword):\n",
        "    \"\"\"Search for the keyword\"\"\"\n",
        "    query = {\n",
        "        'query': {\n",
        "            'match_phrase_prefix': {\n",
        "                'title': keyword\n",
        "                }\n",
        "            }\n",
        "        }\n",
        "    query = json.dumps(query)\n",
        "\n",
        "    url = endpoint + '/movies/_search'\n",
        "    r = requests.post(url, \n",
        "                      auth=(username, password), \n",
        "                      data=query, \n",
        "                      headers={'Content-type': 'application/json'})\n",
        "    return r.json()\n"
      ],
      "metadata": {
        "id": "wdoeZDogtQAU"
      },
      "execution_count": 8,
      "outputs": []
    },
    {
      "cell_type": "code",
      "source": [
        "def bold(result, keywords):\n",
        "    \"\"\"Bold keywords in the result\"\"\"\n",
        "    keywords = keywords.strip().split(' ')\n",
        "    for keyword in keywords:\n",
        "        result = result.replace(keyword, f\"**{keyword}**\")\n",
        "        keyword = keyword.title()\n",
        "        result = result.replace(keyword, f\"**{keyword}**\")\n",
        "    return result\n"
      ],
      "metadata": {
        "id": "wWlnw9TLtQDU"
      },
      "execution_count": 9,
      "outputs": []
    },
    {
      "cell_type": "code",
      "source": [
        "def printmd(string):\n",
        "    \"\"\"Wrapper function to display markdown\"\"\"\n",
        "    display(Markdown(string))"
      ],
      "metadata": {
        "id": "8jh_A5uQtQFx"
      },
      "execution_count": 10,
      "outputs": []
    },
    {
      "cell_type": "code",
      "source": [
        "def search_prefix_index(keywords):\n",
        "    \"\"\"Search for the keyword with prefix\"\"\"\n",
        "    if not keywords:\n",
        "        return None\n",
        "    keywords = keywords.split(' ')\n",
        "    if len(keywords) > 1:\n",
        "        prefix = keywords[-1]\n",
        "        phrase = ' '.join(keywords[:-1])\n",
        "        query = {\n",
        "            'query': {\n",
        "                'bool': {\n",
        "                    'must': [\n",
        "                        {\n",
        "                            'prefix': {\n",
        "                                'search_index': prefix\n",
        "                            }\n",
        "                        },\n",
        "                        {\n",
        "                            'match': {\n",
        "                                'search_index': {\n",
        "                                    'query': phrase,\n",
        "                                    'minimum_should_match': '100%'\n",
        "                                }\n",
        "                            }\n",
        "                        }\n",
        "                    ]\n",
        "                }\n",
        "            }\n",
        "        }\n",
        "    else:\n",
        "        keywords = ' '.join(keywords)\n",
        "        query = {\n",
        "            'query': {\n",
        "                'prefix': {\n",
        "                    'search_index': keywords\n",
        "                }\n",
        "            }\n",
        "        }\n",
        "\n",
        "    query = json.dumps(query)\n",
        "\n",
        "    url = endpoint + '/movies/_search'\n",
        "    r = requests.post(url, \n",
        "                      auth=(username, password), \n",
        "                      data=query, \n",
        "                      headers={'Content-type': 'application/json'})\n",
        "    return r.json()"
      ],
      "metadata": {
        "id": "jecYtxn0IuMZ"
      },
      "execution_count": 11,
      "outputs": []
    },
    {
      "cell_type": "code",
      "source": [
        "def text_change(change):\n",
        "    \"\"\"Widget event when the value changes\"\"\"\n",
        "    global output\n",
        "    with output:\n",
        "        clear_output()\n",
        "        t0 = time()\n",
        "        results = search(change['new'])\n",
        "        if results:\n",
        "            hits = results['hits']['hits']\n",
        "            print_text = []\n",
        "            for res in hits[:10]:\n",
        "                res = res['_source']\n",
        "                print_text.append(bold(res['title'], change['new']))\n",
        "            printmd('<br><br>'.join(print_text))\n",
        "            if hits:\n",
        "                print(f'\\n{round(time() - t0, 4)} seconds')\n",
        "                \n",
        "box = widgets.Text(\n",
        "         value='',\n",
        "         placeholder='Type something',\n",
        "         description='Query:',\n",
        "         disabled=False\n",
        "     )\n",
        "output = widgets.Output()\n",
        "display(box, output)\n",
        "box.observe(text_change, names='value')"
      ],
      "metadata": {
        "id": "MyLYKIXBtQIW",
        "colab": {
          "base_uri": "https://localhost:8080/",
          "height": 49,
          "referenced_widgets": [
            "0bd9d2e248e34b4e896f9c7c56253099",
            "5c5f80b302b341a299330e9194cc5bc7",
            "73e49708c1674285ace9a396d8c6a037",
            "dea67f7a291047019543ba3e422670e3",
            "2e0a27a815a0471e8d7f63e7c6249d03"
          ]
        },
        "outputId": "8899e279-2457-4f77-abd2-beb8446330d0"
      },
      "execution_count": 12,
      "outputs": [
        {
          "output_type": "display_data",
          "data": {
            "text/plain": [
              "Text(value='', description='Query:', placeholder='Type something')"
            ],
            "application/vnd.jupyter.widget-view+json": {
              "version_major": 2,
              "version_minor": 0,
              "model_id": "0bd9d2e248e34b4e896f9c7c56253099"
            }
          },
          "metadata": {}
        },
        {
          "output_type": "display_data",
          "data": {
            "text/plain": [
              "Output()"
            ],
            "application/vnd.jupyter.widget-view+json": {
              "version_major": 2,
              "version_minor": 0,
              "model_id": "dea67f7a291047019543ba3e422670e3"
            }
          },
          "metadata": {}
        }
      ]
    }
  ]
}